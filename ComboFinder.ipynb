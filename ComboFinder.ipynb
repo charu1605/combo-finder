{
  "nbformat": 4,
  "nbformat_minor": 0,
  "metadata": {
    "colab": {
      "name": "ComboFinder.ipynb",
      "provenance": [],
      "include_colab_link": true
    },
    "kernelspec": {
      "display_name": "Python 3",
      "language": "python",
      "name": "python3"
    },
    "language_info": {
      "codemirror_mode": {
        "name": "ipython",
        "version": 3
      },
      "file_extension": ".py",
      "mimetype": "text/x-python",
      "name": "python",
      "nbconvert_exporter": "python",
      "pygments_lexer": "ipython3",
      "version": "3.8.5"
    }
  },
  "cells": [
    {
      "cell_type": "markdown",
      "metadata": {
        "id": "view-in-github",
        "colab_type": "text"
      },
      "source": [
        "<a href=\"https://colab.research.google.com/github/charu1605/combo-finder/blob/main/ComboFinder.ipynb\" target=\"_parent\"><img src=\"https://colab.research.google.com/assets/colab-badge.svg\" alt=\"Open In Colab\"/></a>"
      ]
    },
    {
      "cell_type": "markdown",
      "metadata": {
        "id": "A30y-VtNim1h"
      },
      "source": [
        "### **1 Library inclusion**"
      ]
    },
    {
      "cell_type": "code",
      "metadata": {
        "id": "cF_mSA9Xim1j"
      },
      "source": [
        "import random as r"
      ],
      "execution_count": null,
      "outputs": []
    },
    {
      "cell_type": "markdown",
      "metadata": {
        "id": "UjvBYy0Lim1m"
      },
      "source": [
        "### **2 Parameter Setting**\n",
        "Read the productId-price file and convert to dictionary"
      ]
    },
    {
      "cell_type": "code",
      "metadata": {
        "id": "NHB2KMhZim1o"
      },
      "source": [
        "ProductList = {'p1':10, 'p2':15, 'p3':20, 'p4':25, 'p5':30, 'p6':35, 'p7':50,\n",
        "               'p8':40, 'p9':55, 'p10':60, 'p11':65, 'p12':75, 'p13':70,\n",
        "               'p14':45}\n",
        "LB          = 290\n",
        "UB          = 300\n",
        "ResultList  = set()   # Store Result List i.e. list of sets whose sum is between 90 and 210.\n",
        "Iterations  = 1000    # Number of Inerations"
      ],
      "execution_count": null,
      "outputs": []
    },
    {
      "cell_type": "markdown",
      "metadata": {
        "id": "BTLd3s--im1c"
      },
      "source": [
        "### **Single Run**\n",
        "\n",
        "\n"
      ]
    },
    {
      "cell_type": "code",
      "metadata": {
        "id": "veBU-f21im1x",
        "colab": {
          "base_uri": "https://localhost:8080/"
        },
        "outputId": "89391b03-858c-409a-9342-5d1d317b14b8"
      },
      "source": [
        "# Select combo size (i.e. number of products in a combo)\n",
        "SetSize = r.randint(2, len(ProductList)-1)\n",
        "print(\"Number of Product: \", SetSize)\n",
        "\n",
        "\n",
        "# Select number of elements from Set\n",
        "ComboList = r.sample(list(ProductList.keys()),SetSize)\n",
        "print(\"Product List     : \", ComboList)\n",
        "\n",
        "\n",
        "# Sum the products in ColboList\n",
        "ComboSum = sum([ ProductList[i] for i in ComboList])\n",
        "print(\"Sum of Product   : \", ComboSum)\n"
      ],
      "execution_count": null,
      "outputs": [
        {
          "output_type": "stream",
          "name": "stdout",
          "text": [
            "Number of Product:  6\n",
            "Product List     :  ['p4', 'p10', 'p1', 'p7', 'p12', 'p6']\n",
            "Sum of Product   :  255\n"
          ]
        }
      ]
    },
    {
      "cell_type": "markdown",
      "metadata": {
        "id": "ts8ALfd7NuIh"
      },
      "source": [
        "### **3 Start Program**\n",
        "\n",
        "\n"
      ]
    },
    {
      "cell_type": "code",
      "metadata": {
        "colab": {
          "base_uri": "https://localhost:8080/"
        },
        "id": "34JF9pZPNuIj",
        "outputId": "c4e8006f-4f16-4ee5-f24f-813ed0d86743"
      },
      "source": [
        "# Loop till number of Iterations\n",
        "ResultList  = set()\n",
        "\n",
        "for i in range(Iterations):\n",
        "\n",
        "    # Select combo size (i.e. number of products in a combo)\n",
        "    SetSize = r.randint(2, len(ProductList)-1)\n",
        "\n",
        "    # Select number of elements from Set\n",
        "    ComboList = r.sample(list(ProductList.keys()),SetSize)\n",
        "    ComboList.sort()\n",
        "\n",
        "    # Sum the products in ColboList\n",
        "    ComboSum = sum([ ProductList[i] for i in ComboList])\n",
        "\n",
        "    # Check the Sum Between LB and UB\n",
        "    if ComboSum>= LB and ComboSum<= UB:\n",
        "      ResultList.add(tuple(ComboList))\n",
        "\n",
        "print(\"Done\")"
      ],
      "execution_count": null,
      "outputs": [
        {
          "output_type": "stream",
          "name": "stdout",
          "text": [
            "Done\n"
          ]
        }
      ]
    },
    {
      "cell_type": "markdown",
      "metadata": {
        "id": "nRWYsJNVim1z"
      },
      "source": [
        "### **4 Print the comboLists and total count**\n"
      ]
    },
    {
      "cell_type": "code",
      "metadata": {
        "colab": {
          "base_uri": "https://localhost:8080/"
        },
        "id": "41abL1k-im10",
        "scrolled": true,
        "outputId": "5d8cb100-c9a3-4286-a242-46c5d5984a6b"
      },
      "source": [
        "# Print all the sets whose sum is between LB and UB\n",
        "for r in ResultList:\n",
        "\tprint (r)\n",
        "\n",
        "# Print total sets\n",
        "print (\"\\nTotal Sets: \", len(ResultList), \"\\n\")"
      ],
      "execution_count": null,
      "outputs": [
        {
          "output_type": "stream",
          "name": "stdout",
          "text": [
            "('p10', 'p11', 'p13', 'p7', 'p9')\n",
            "('p11', 'p12', 'p14', 'p3', 'p6', 'p7')\n",
            "('p10', 'p12', 'p2', 'p3', 'p6', 'p8', 'p9')\n",
            "('p10', 'p12', 'p13', 'p14', 'p7')\n",
            "('p1', 'p11', 'p13', 'p4', 'p5', 'p8', 'p9')\n",
            "('p1', 'p11', 'p14', 'p2', 'p3', 'p6', 'p7', 'p9')\n",
            "('p1', 'p10', 'p11', 'p14', 'p3', 'p4', 'p5', 'p6')\n",
            "('p1', 'p11', 'p12', 'p13', 'p3', 'p4', 'p5')\n",
            "('p10', 'p11', 'p13', 'p8', 'p9')\n",
            "('p1', 'p12', 'p14', 'p2', 'p3', 'p6', 'p8', 'p9')\n",
            "('p10', 'p11', 'p14', 'p5', 'p6', 'p9')\n",
            "('p10', 'p13', 'p14', 'p4', 'p6', 'p9')\n",
            "('p11', 'p13', 'p4', 'p6', 'p7', 'p9')\n",
            "('p1', 'p10', 'p12', 'p13', 'p2', 'p5', 'p6')\n",
            "('p1', 'p10', 'p11', 'p13', 'p3', 'p5', 'p8')\n",
            "('p10', 'p14', 'p2', 'p3', 'p4', 'p6', 'p8', 'p9')\n",
            "('p1', 'p10', 'p13', 'p14', 'p2', 'p6', 'p9')\n",
            "('p10', 'p12', 'p13', 'p2', 'p3', 'p4', 'p6')\n",
            "('p14', 'p3', 'p4', 'p5', 'p6', 'p7', 'p8', 'p9')\n",
            "('p10', 'p11', 'p13', 'p4', 'p5', 'p8')\n",
            "('p11', 'p13', 'p2', 'p3', 'p4', 'p8', 'p9')\n",
            "('p10', 'p13', 'p3', 'p7', 'p8', 'p9')\n",
            "\n",
            "Total Sets:  22 \n",
            "\n"
          ]
        }
      ]
    },
    {
      "cell_type": "code",
      "metadata": {
        "id": "zzblepy0k4LU"
      },
      "source": [],
      "execution_count": null,
      "outputs": []
    }
  ]
}